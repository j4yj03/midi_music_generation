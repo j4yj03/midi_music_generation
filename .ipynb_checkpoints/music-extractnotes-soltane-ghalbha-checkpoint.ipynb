{
 "cells": [
  {
   "cell_type": "markdown",
   "id": "fce7dcb2",
   "metadata": {
    "papermill": {
     "duration": 0.012553,
     "end_time": "2022-11-27T20:53:44.534479",
     "exception": false,
     "start_time": "2022-11-27T20:53:44.521926",
     "status": "completed"
    },
    "pycharm": {
     "name": "#%% md\n"
    },
    "tags": []
   },
   "source": [
    "# Extract Notes And Generate Music - Part 1"
   ]
  },
  {
   "cell_type": "markdown",
   "id": "a3727f3a",
   "metadata": {
    "papermill": {
     "duration": 0.012988,
     "end_time": "2022-11-27T20:53:44.559022",
     "exception": false,
     "start_time": "2022-11-27T20:53:44.546034",
     "status": "completed"
    },
    "tags": []
   },
   "source": [
    "![https://m.media-amazon.com/images/M/MV5BZTQxMjNlNWItZjViYS00Y2ZhLWJiMzItNDZlNTMyMzk2NWVjXkEyXkFqcGdeQXVyNjkxOTM4ODY@._V1_.jpg](https://m.media-amazon.com/images/M/MV5BZTQxMjNlNWItZjViYS00Y2ZhLWJiMzItNDZlNTMyMzk2NWVjXkEyXkFqcGdeQXVyNjkxOTM4ODY@._V1_.jpg)"
   ]
  },
  {
   "cell_type": "markdown",
   "id": "ce5d375d",
   "metadata": {
    "papermill": {
     "duration": 0.011913,
     "end_time": "2022-11-27T20:53:44.582195",
     "exception": false,
     "start_time": "2022-11-27T20:53:44.570282",
     "status": "completed"
    },
    "pycharm": {
     "name": "#%% md\n"
    },
    "tags": []
   },
   "source": [
    "# Soltane Ghalbha\n",
    "### Release Date : 1968\n",
    "### Music : Rubik Mansouri\n",
    "### Composer : Anoushiravan Rohani\n",
    "### Singer : Aref Arefkia\n",
    "\n",
    "#### Soltane Ghalbha literally: King of Hearts is a 1968 melodrama Iranian film directed by Mohammad Ali Fardin and starring Azar Shiva, Victoria Nerssisian, Leila Forouhar and Mohammad Ali Fardin. Aref Arefkia and Ahdieh did the singing voices of the film and dubbed the lead performers.The film's songs and lyrics were composed by pianist Anoushiravan Rohani."
   ]
  },
  {
   "cell_type": "markdown",
   "id": "330c19ce",
   "metadata": {
    "papermill": {
     "duration": 0.011508,
     "end_time": "2022-11-27T20:53:44.605738",
     "exception": false,
     "start_time": "2022-11-27T20:53:44.594230",
     "status": "completed"
    },
    "pycharm": {
     "name": "#%% md\n"
    },
    "tags": []
   },
   "source": [
    "## Plot\n",
    "#### A young couple lives apart for years during an accident, each assuming that their spouse has died. The man becomes a famous singer and the woman loses her sight in an accident. Years later, the man happens to meet a girl and, without knowing what the girl has to do with him, treats the girl's mother and his wife. The man intends to marry a wealthy woman, but on the wedding night, the wife and child come to thank him, and thus the old couple find each other again after a long time and start a new life together."
   ]
  },
  {
   "cell_type": "code",
   "execution_count": 1,
   "id": "74be4880",
   "metadata": {
    "execution": {
     "iopub.execute_input": "2022-11-27T20:53:44.631577Z",
     "iopub.status.busy": "2022-11-27T20:53:44.630550Z",
     "iopub.status.idle": "2022-11-27T20:54:01.042708Z",
     "shell.execute_reply": "2022-11-27T20:54:01.041444Z"
    },
    "papermill": {
     "duration": 16.428522,
     "end_time": "2022-11-27T20:54:01.045662",
     "exception": false,
     "start_time": "2022-11-27T20:53:44.617140",
     "status": "completed"
    },
    "tags": []
   },
   "outputs": [
    {
     "name": "stdout",
     "output_type": "stream",
     "text": [
      "Collecting pretty_midi\r\n",
      "  Downloading pretty_midi-0.2.9.tar.gz (5.6 MB)\r\n",
      "\u001b[2K     \u001b[90m━━━━━━━━━━━━━━━━━━━━━━━━━━━━━━━━━━━━━━━━\u001b[0m \u001b[32m5.6/5.6 MB\u001b[0m \u001b[31m12.4 MB/s\u001b[0m eta \u001b[36m0:00:00\u001b[0m\r\n",
      "\u001b[?25h  Preparing metadata (setup.py) ... \u001b[?25l-\b \bdone\r\n",
      "\u001b[?25hRequirement already satisfied: numpy>=1.7.0 in /opt/conda/lib/python3.7/site-packages (from pretty_midi) (1.21.6)\r\n",
      "Collecting mido>=1.1.16\r\n",
      "  Downloading mido-1.2.10-py2.py3-none-any.whl (51 kB)\r\n",
      "\u001b[2K     \u001b[90m━━━━━━━━━━━━━━━━━━━━━━━━━━━━━━━━━━━━━━━━\u001b[0m \u001b[32m51.1/51.1 kB\u001b[0m \u001b[31m4.0 MB/s\u001b[0m eta \u001b[36m0:00:00\u001b[0m\r\n",
      "\u001b[?25hRequirement already satisfied: six in /opt/conda/lib/python3.7/site-packages (from pretty_midi) (1.15.0)\r\n",
      "Building wheels for collected packages: pretty_midi\r\n",
      "  Building wheel for pretty_midi (setup.py) ... \u001b[?25l-\b \b\\\b \b|\b \bdone\r\n",
      "\u001b[?25h  Created wheel for pretty_midi: filename=pretty_midi-0.2.9-py3-none-any.whl size=5591955 sha256=772897f8f38d15c0c0b9f5463f4d90105759c761418e8c7128c912d939bfdfb5\r\n",
      "  Stored in directory: /root/.cache/pip/wheels/ad/74/7c/a06473ca8dcb63efb98c1e67667ce39d52100f837835ea18fa\r\n",
      "Successfully built pretty_midi\r\n",
      "Installing collected packages: mido, pretty_midi\r\n",
      "Successfully installed mido-1.2.10 pretty_midi-0.2.9\r\n",
      "\u001b[33mWARNING: Running pip as the 'root' user can result in broken permissions and conflicting behaviour with the system package manager. It is recommended to use a virtual environment instead: https://pip.pypa.io/warnings/venv\u001b[0m\u001b[33m\r\n",
      "\u001b[0m"
     ]
    }
   ],
   "source": [
    "!pip install pretty_midi"
   ]
  },
  {
   "cell_type": "code",
   "execution_count": 2,
   "id": "2c9c459f",
   "metadata": {
    "execution": {
     "iopub.execute_input": "2022-11-27T20:54:01.074740Z",
     "iopub.status.busy": "2022-11-27T20:54:01.074329Z",
     "iopub.status.idle": "2022-11-27T20:54:13.086667Z",
     "shell.execute_reply": "2022-11-27T20:54:13.084874Z"
    },
    "papermill": {
     "duration": 12.03098,
     "end_time": "2022-11-27T20:54:13.090173",
     "exception": false,
     "start_time": "2022-11-27T20:54:01.059193",
     "status": "completed"
    },
    "tags": []
   },
   "outputs": [
    {
     "name": "stdout",
     "output_type": "stream",
     "text": [
      "Collecting pyfluidsynth\r\n",
      "  Downloading pyFluidSynth-1.3.1-py3-none-any.whl (19 kB)\r\n",
      "Requirement already satisfied: numpy in /opt/conda/lib/python3.7/site-packages (from pyfluidsynth) (1.21.6)\r\n",
      "Installing collected packages: pyfluidsynth\r\n",
      "Successfully installed pyfluidsynth-1.3.1\r\n",
      "\u001b[33mWARNING: Running pip as the 'root' user can result in broken permissions and conflicting behaviour with the system package manager. It is recommended to use a virtual environment instead: https://pip.pypa.io/warnings/venv\u001b[0m\u001b[33m\r\n",
      "\u001b[0mNote: you may need to restart the kernel to use updated packages.\n"
     ]
    }
   ],
   "source": [
    "pip install --upgrade pyfluidsynth"
   ]
  },
  {
   "cell_type": "code",
   "execution_count": 3,
   "id": "31e78a35",
   "metadata": {
    "execution": {
     "iopub.execute_input": "2022-11-27T20:54:13.123448Z",
     "iopub.status.busy": "2022-11-27T20:54:13.122891Z",
     "iopub.status.idle": "2022-11-27T20:54:26.647280Z",
     "shell.execute_reply": "2022-11-27T20:54:26.645365Z"
    },
    "papermill": {
     "duration": 13.542817,
     "end_time": "2022-11-27T20:54:26.650245",
     "exception": false,
     "start_time": "2022-11-27T20:54:13.107428",
     "status": "completed"
    },
    "tags": []
   },
   "outputs": [
    {
     "name": "stdout",
     "output_type": "stream",
     "text": [
      "Collecting fluidsynth\r\n",
      "  Downloading fluidsynth-0.2.tar.gz (3.7 kB)\r\n",
      "  Preparing metadata (setup.py) ... \u001b[?25l-\b \bdone\r\n",
      "\u001b[?25hBuilding wheels for collected packages: fluidsynth\r\n",
      "  Building wheel for fluidsynth (setup.py) ... \u001b[?25l-\b \b\\\b \bdone\r\n",
      "\u001b[?25h  Created wheel for fluidsynth: filename=fluidsynth-0.2-py3-none-any.whl size=4513 sha256=a1590dc911f1b0b3526db394280a47779c06cb9c8a2579d6266096bf0d77fa73\r\n",
      "  Stored in directory: /root/.cache/pip/wheels/44/4b/81/dee2d535b2dd27af13c230ba49aa6f05a5dff0f57c68acef55\r\n",
      "Successfully built fluidsynth\r\n",
      "Installing collected packages: fluidsynth\r\n",
      "Successfully installed fluidsynth-0.2\r\n",
      "\u001b[33mWARNING: Running pip as the 'root' user can result in broken permissions and conflicting behaviour with the system package manager. It is recommended to use a virtual environment instead: https://pip.pypa.io/warnings/venv\u001b[0m\u001b[33m\r\n",
      "\u001b[0mNote: you may need to restart the kernel to use updated packages.\n"
     ]
    }
   ],
   "source": [
    "pip install fluidsynth"
   ]
  },
  {
   "cell_type": "markdown",
   "id": "49dffcf1",
   "metadata": {
    "papermill": {
     "duration": 0.014482,
     "end_time": "2022-11-27T20:54:26.679825",
     "exception": false,
     "start_time": "2022-11-27T20:54:26.665343",
     "status": "completed"
    },
    "tags": []
   },
   "source": [
    "# 1 | Necessary Libraries"
   ]
  },
  {
   "cell_type": "code",
   "execution_count": 4,
   "id": "2c8b9673",
   "metadata": {
    "collapsed": false,
    "execution": {
     "iopub.execute_input": "2022-11-27T20:54:26.711390Z",
     "iopub.status.busy": "2022-11-27T20:54:26.710009Z",
     "iopub.status.idle": "2022-11-27T20:54:33.305053Z",
     "shell.execute_reply": "2022-11-27T20:54:33.303785Z"
    },
    "jupyter": {
     "outputs_hidden": false
    },
    "papermill": {
     "duration": 6.613921,
     "end_time": "2022-11-27T20:54:33.307851",
     "exception": false,
     "start_time": "2022-11-27T20:54:26.693930",
     "status": "completed"
    },
    "pycharm": {
     "name": "#%%\n"
    },
    "tags": []
   },
   "outputs": [],
   "source": [
    "import collections\n",
    "import datetime\n",
    "# import fluidsynth\n",
    "import glob\n",
    "import numpy as np\n",
    "import pathlib\n",
    "import pandas as pd\n",
    "import pretty_midi\n",
    "import seaborn as sns\n",
    "import tensorflow as tf\n",
    "\n",
    "from IPython import display\n",
    "from matplotlib import pyplot as plt\n",
    "from typing import Dict, List, Optional, Sequence, Tuple"
   ]
  },
  {
   "cell_type": "markdown",
   "id": "76b5c3f9",
   "metadata": {
    "papermill": {
     "duration": 0.01326,
     "end_time": "2022-11-27T20:54:33.335045",
     "exception": false,
     "start_time": "2022-11-27T20:54:33.321785",
     "status": "completed"
    },
    "pycharm": {
     "name": "#%% md\n"
    },
    "tags": []
   },
   "source": [
    "# 2 | Process a MIDI file"
   ]
  },
  {
   "cell_type": "code",
   "execution_count": 5,
   "id": "88bb9cb7",
   "metadata": {
    "collapsed": false,
    "execution": {
     "iopub.execute_input": "2022-11-27T20:54:33.364151Z",
     "iopub.status.busy": "2022-11-27T20:54:33.363469Z",
     "iopub.status.idle": "2022-11-27T20:54:33.368861Z",
     "shell.execute_reply": "2022-11-27T20:54:33.367797Z"
    },
    "jupyter": {
     "outputs_hidden": false
    },
    "papermill": {
     "duration": 0.022427,
     "end_time": "2022-11-27T20:54:33.371037",
     "exception": false,
     "start_time": "2022-11-27T20:54:33.348610",
     "status": "completed"
    },
    "pycharm": {
     "name": "#%%\n"
    },
    "tags": []
   },
   "outputs": [],
   "source": [
    "seed = 20\n",
    "np.random.seed(seed)\n",
    "\n",
    "# Sampling rate for audio playback\n",
    "_SAMPLING_RATE = 32000"
   ]
  },
  {
   "cell_type": "code",
   "execution_count": 6,
   "id": "01ab25f6",
   "metadata": {
    "collapsed": false,
    "execution": {
     "iopub.execute_input": "2022-11-27T20:54:33.400379Z",
     "iopub.status.busy": "2022-11-27T20:54:33.399986Z",
     "iopub.status.idle": "2022-11-27T20:54:33.405353Z",
     "shell.execute_reply": "2022-11-27T20:54:33.404280Z"
    },
    "jupyter": {
     "outputs_hidden": false
    },
    "papermill": {
     "duration": 0.022912,
     "end_time": "2022-11-27T20:54:33.407831",
     "exception": false,
     "start_time": "2022-11-27T20:54:33.384919",
     "status": "completed"
    },
    "pycharm": {
     "name": "#%%\n"
    },
    "tags": []
   },
   "outputs": [],
   "source": [
    "musicName = 'Soltan-Ghalbha'\n",
    "sample_file = '/kaggle/input/soltane-ghalbha/soltan.MID'"
   ]
  },
  {
   "cell_type": "code",
   "execution_count": 7,
   "id": "bad35b54",
   "metadata": {
    "collapsed": false,
    "execution": {
     "iopub.execute_input": "2022-11-27T20:54:33.437526Z",
     "iopub.status.busy": "2022-11-27T20:54:33.436778Z",
     "iopub.status.idle": "2022-11-27T20:54:33.628518Z",
     "shell.execute_reply": "2022-11-27T20:54:33.627474Z"
    },
    "jupyter": {
     "outputs_hidden": false
    },
    "papermill": {
     "duration": 0.209602,
     "end_time": "2022-11-27T20:54:33.631258",
     "exception": false,
     "start_time": "2022-11-27T20:54:33.421656",
     "status": "completed"
    },
    "pycharm": {
     "name": "#%%\n"
    },
    "tags": []
   },
   "outputs": [],
   "source": [
    "pm = pretty_midi.PrettyMIDI(sample_file)"
   ]
  },
  {
   "cell_type": "code",
   "execution_count": 8,
   "id": "fd6dd090",
   "metadata": {
    "collapsed": false,
    "execution": {
     "iopub.execute_input": "2022-11-27T20:54:33.661126Z",
     "iopub.status.busy": "2022-11-27T20:54:33.660665Z",
     "iopub.status.idle": "2022-11-27T20:54:33.666657Z",
     "shell.execute_reply": "2022-11-27T20:54:33.665367Z"
    },
    "jupyter": {
     "outputs_hidden": false
    },
    "papermill": {
     "duration": 0.023958,
     "end_time": "2022-11-27T20:54:33.669134",
     "exception": false,
     "start_time": "2022-11-27T20:54:33.645176",
     "status": "completed"
    },
    "pycharm": {
     "name": "#%%\n"
    },
    "tags": []
   },
   "outputs": [],
   "source": [
    "def display_audio(pm: pretty_midi.PrettyMIDI, start=36, To=30):\n",
    "    waveform = pm.fluidsynth(fs=_SAMPLING_RATE)\n",
    "    # Take a sample of the generated waveform to mitigate kernel resets\n",
    "    waveform_short = waveform[:To*_SAMPLING_RATE]\n",
    "    # waveform_start_to_end = waveform[start * _SAMPLING_RATE:]\n",
    "    return display.Audio(waveform_short, rate=_SAMPLING_RATE)"
   ]
  },
  {
   "cell_type": "code",
   "execution_count": 9,
   "id": "43c94ed1",
   "metadata": {
    "collapsed": false,
    "execution": {
     "iopub.execute_input": "2022-11-27T20:54:33.698951Z",
     "iopub.status.busy": "2022-11-27T20:54:33.698461Z",
     "iopub.status.idle": "2022-11-27T20:54:33.703336Z",
     "shell.execute_reply": "2022-11-27T20:54:33.702206Z"
    },
    "jupyter": {
     "outputs_hidden": false
    },
    "papermill": {
     "duration": 0.022416,
     "end_time": "2022-11-27T20:54:33.705594",
     "exception": false,
     "start_time": "2022-11-27T20:54:33.683178",
     "status": "completed"
    },
    "pycharm": {
     "name": "#%%\n"
    },
    "tags": []
   },
   "outputs": [],
   "source": [
    "# display_audio(pm)"
   ]
  },
  {
   "cell_type": "code",
   "execution_count": 10,
   "id": "db57399e",
   "metadata": {
    "collapsed": false,
    "execution": {
     "iopub.execute_input": "2022-11-27T20:54:33.735381Z",
     "iopub.status.busy": "2022-11-27T20:54:33.734874Z",
     "iopub.status.idle": "2022-11-27T20:54:33.741608Z",
     "shell.execute_reply": "2022-11-27T20:54:33.740453Z"
    },
    "jupyter": {
     "outputs_hidden": false
    },
    "papermill": {
     "duration": 0.024733,
     "end_time": "2022-11-27T20:54:33.744154",
     "exception": false,
     "start_time": "2022-11-27T20:54:33.719421",
     "status": "completed"
    },
    "pycharm": {
     "name": "#%%\n"
    },
    "tags": []
   },
   "outputs": [
    {
     "name": "stdout",
     "output_type": "stream",
     "text": [
      "Number of instruments: 1\n",
      "Instrument name: Acoustic Grand Piano\n"
     ]
    }
   ],
   "source": [
    "print('Number of instruments:', len(pm.instruments))\n",
    "instrument = pm.instruments[0]\n",
    "instrument_name = pretty_midi.program_to_instrument_name(instrument.program)\n",
    "print('Instrument name:', instrument_name)"
   ]
  },
  {
   "cell_type": "markdown",
   "id": "eb9ad099",
   "metadata": {
    "papermill": {
     "duration": 0.013734,
     "end_time": "2022-11-27T20:54:33.772296",
     "exception": false,
     "start_time": "2022-11-27T20:54:33.758562",
     "status": "completed"
    },
    "tags": []
   },
   "source": [
    "### Musical instrument type : Acoustic Grand Piano"
   ]
  },
  {
   "cell_type": "markdown",
   "id": "51c8e7d7",
   "metadata": {
    "papermill": {
     "duration": 0.013897,
     "end_time": "2022-11-27T20:54:33.800804",
     "exception": false,
     "start_time": "2022-11-27T20:54:33.786907",
     "status": "completed"
    },
    "tags": []
   },
   "source": [
    "![https://kawaius.com/wp-content/uploads/2018/04/GX-7-Polished-Ebony-450x450.jpg](https://kawaius.com/wp-content/uploads/2018/04/GX-7-Polished-Ebony-450x450.jpg)"
   ]
  },
  {
   "cell_type": "markdown",
   "id": "63f7d226",
   "metadata": {
    "papermill": {
     "duration": 0.013751,
     "end_time": "2022-11-27T20:54:33.828986",
     "exception": false,
     "start_time": "2022-11-27T20:54:33.815235",
     "status": "completed"
    },
    "pycharm": {
     "name": "#%% md\n"
    },
    "tags": []
   },
   "source": [
    "# 3 | Extract notes"
   ]
  },
  {
   "cell_type": "code",
   "execution_count": 11,
   "id": "132ce420",
   "metadata": {
    "collapsed": false,
    "execution": {
     "iopub.execute_input": "2022-11-27T20:54:33.858700Z",
     "iopub.status.busy": "2022-11-27T20:54:33.858290Z",
     "iopub.status.idle": "2022-11-27T20:54:33.864448Z",
     "shell.execute_reply": "2022-11-27T20:54:33.863435Z"
    },
    "jupyter": {
     "outputs_hidden": false
    },
    "papermill": {
     "duration": 0.024297,
     "end_time": "2022-11-27T20:54:33.867119",
     "exception": false,
     "start_time": "2022-11-27T20:54:33.842822",
     "status": "completed"
    },
    "pycharm": {
     "name": "#%%\n"
    },
    "tags": []
   },
   "outputs": [
    {
     "name": "stdout",
     "output_type": "stream",
     "text": [
      "0: pitch=50, note_name=D3, duration=0.3980\n",
      "1: pitch=62, note_name=D4, duration=0.4150\n",
      "2: pitch=64, note_name=E4, duration=0.3946\n",
      "3: pitch=53, note_name=F3, duration=0.4014\n",
      "4: pitch=65, note_name=F4, duration=0.3980\n",
      "5: pitch=57, note_name=A3, duration=0.3980\n",
      "6: pitch=50, note_name=D3, duration=0.3810\n",
      "7: pitch=53, note_name=F3, duration=0.4184\n",
      "8: pitch=69, note_name=A4, duration=0.8503\n",
      "9: pitch=70, note_name=A#4, duration=0.3707\n"
     ]
    }
   ],
   "source": [
    "for i, note in enumerate(instrument.notes[:10]):\n",
    "    note_name = pretty_midi.note_number_to_name(note.pitch)\n",
    "    duration = note.end - note.start\n",
    "    print(f'{i}: pitch={note.pitch}, note_name={note_name},'\n",
    "          f' duration={duration:.4f}')"
   ]
  },
  {
   "cell_type": "markdown",
   "id": "050aaeed",
   "metadata": {
    "papermill": {
     "duration": 0.013928,
     "end_time": "2022-11-27T20:54:33.895006",
     "exception": false,
     "start_time": "2022-11-27T20:54:33.881078",
     "status": "completed"
    },
    "pycharm": {
     "name": "#%% md\n"
    },
    "tags": []
   },
   "source": [
    "### Extract the notes from the sample MIDI file."
   ]
  },
  {
   "cell_type": "code",
   "execution_count": 12,
   "id": "954560c4",
   "metadata": {
    "collapsed": false,
    "execution": {
     "iopub.execute_input": "2022-11-27T20:54:33.924573Z",
     "iopub.status.busy": "2022-11-27T20:54:33.924183Z",
     "iopub.status.idle": "2022-11-27T20:54:33.933006Z",
     "shell.execute_reply": "2022-11-27T20:54:33.931866Z"
    },
    "jupyter": {
     "outputs_hidden": false
    },
    "papermill": {
     "duration": 0.026639,
     "end_time": "2022-11-27T20:54:33.935598",
     "exception": false,
     "start_time": "2022-11-27T20:54:33.908959",
     "status": "completed"
    },
    "pycharm": {
     "name": "#%%\n"
    },
    "tags": []
   },
   "outputs": [],
   "source": [
    "def midi_to_notes(midi_file: str) -> pd.DataFrame:\n",
    "    pm = pretty_midi.PrettyMIDI(midi_file)\n",
    "    instrument = pm.instruments[0]\n",
    "    notes = collections.defaultdict(list)\n",
    "\n",
    "    # Sort the notes by start time\n",
    "    sorted_notes = sorted(instrument.notes, key=lambda note: note.start)\n",
    "    prev_start = sorted_notes[0].start\n",
    "\n",
    "    for note in sorted_notes:\n",
    "        start = note.start\n",
    "        end = note.end\n",
    "        notes['pitch'].append(note.pitch)\n",
    "        notes['start'].append(start)\n",
    "        notes['end'].append(end)\n",
    "        notes['step'].append(start - prev_start)\n",
    "        notes['duration'].append(end - start)\n",
    "        prev_start = start\n",
    "\n",
    "    return pd.DataFrame({name: np.array(value) for name, value in notes.items()})"
   ]
  },
  {
   "cell_type": "code",
   "execution_count": 13,
   "id": "c161a3ca",
   "metadata": {
    "collapsed": false,
    "execution": {
     "iopub.execute_input": "2022-11-27T20:54:33.971812Z",
     "iopub.status.busy": "2022-11-27T20:54:33.971335Z",
     "iopub.status.idle": "2022-11-27T20:54:34.449263Z",
     "shell.execute_reply": "2022-11-27T20:54:34.447973Z"
    },
    "jupyter": {
     "outputs_hidden": false
    },
    "papermill": {
     "duration": 0.496952,
     "end_time": "2022-11-27T20:54:34.451902",
     "exception": false,
     "start_time": "2022-11-27T20:54:33.954950",
     "status": "completed"
    },
    "pycharm": {
     "name": "#%%\n"
    },
    "tags": []
   },
   "outputs": [
    {
     "data": {
      "text/html": [
       "<div>\n",
       "<style scoped>\n",
       "    .dataframe tbody tr th:only-of-type {\n",
       "        vertical-align: middle;\n",
       "    }\n",
       "\n",
       "    .dataframe tbody tr th {\n",
       "        vertical-align: top;\n",
       "    }\n",
       "\n",
       "    .dataframe thead th {\n",
       "        text-align: right;\n",
       "    }\n",
       "</style>\n",
       "<table border=\"1\" class=\"dataframe\">\n",
       "  <thead>\n",
       "    <tr style=\"text-align: right;\">\n",
       "      <th></th>\n",
       "      <th>pitch</th>\n",
       "      <th>start</th>\n",
       "      <th>end</th>\n",
       "      <th>step</th>\n",
       "      <th>duration</th>\n",
       "    </tr>\n",
       "  </thead>\n",
       "  <tbody>\n",
       "    <tr>\n",
       "      <th>0</th>\n",
       "      <td>50</td>\n",
       "      <td>0.000000</td>\n",
       "      <td>0.397959</td>\n",
       "      <td>0.000000</td>\n",
       "      <td>0.397959</td>\n",
       "    </tr>\n",
       "    <tr>\n",
       "      <th>1</th>\n",
       "      <td>62</td>\n",
       "      <td>0.000000</td>\n",
       "      <td>0.414966</td>\n",
       "      <td>0.000000</td>\n",
       "      <td>0.414966</td>\n",
       "    </tr>\n",
       "    <tr>\n",
       "      <th>2</th>\n",
       "      <td>64</td>\n",
       "      <td>0.408163</td>\n",
       "      <td>0.802721</td>\n",
       "      <td>0.408163</td>\n",
       "      <td>0.394558</td>\n",
       "    </tr>\n",
       "    <tr>\n",
       "      <th>3</th>\n",
       "      <td>53</td>\n",
       "      <td>0.408163</td>\n",
       "      <td>0.809523</td>\n",
       "      <td>0.000000</td>\n",
       "      <td>0.401360</td>\n",
       "    </tr>\n",
       "    <tr>\n",
       "      <th>4</th>\n",
       "      <td>65</td>\n",
       "      <td>0.816326</td>\n",
       "      <td>1.214285</td>\n",
       "      <td>0.408163</td>\n",
       "      <td>0.397959</td>\n",
       "    </tr>\n",
       "    <tr>\n",
       "      <th>...</th>\n",
       "      <td>...</td>\n",
       "      <td>...</td>\n",
       "      <td>...</td>\n",
       "      <td>...</td>\n",
       "      <td>...</td>\n",
       "    </tr>\n",
       "    <tr>\n",
       "      <th>318</th>\n",
       "      <td>50</td>\n",
       "      <td>72.244851</td>\n",
       "      <td>72.625803</td>\n",
       "      <td>0.408163</td>\n",
       "      <td>0.380952</td>\n",
       "    </tr>\n",
       "    <tr>\n",
       "      <th>319</th>\n",
       "      <td>62</td>\n",
       "      <td>72.244851</td>\n",
       "      <td>73.948932</td>\n",
       "      <td>0.000000</td>\n",
       "      <td>1.704081</td>\n",
       "    </tr>\n",
       "    <tr>\n",
       "      <th>320</th>\n",
       "      <td>53</td>\n",
       "      <td>72.653014</td>\n",
       "      <td>73.050973</td>\n",
       "      <td>0.408163</td>\n",
       "      <td>0.397959</td>\n",
       "    </tr>\n",
       "    <tr>\n",
       "      <th>321</th>\n",
       "      <td>57</td>\n",
       "      <td>73.061177</td>\n",
       "      <td>73.455735</td>\n",
       "      <td>0.408163</td>\n",
       "      <td>0.394558</td>\n",
       "    </tr>\n",
       "    <tr>\n",
       "      <th>322</th>\n",
       "      <td>50</td>\n",
       "      <td>73.469340</td>\n",
       "      <td>73.921721</td>\n",
       "      <td>0.408163</td>\n",
       "      <td>0.452381</td>\n",
       "    </tr>\n",
       "  </tbody>\n",
       "</table>\n",
       "<p>323 rows × 5 columns</p>\n",
       "</div>"
      ],
      "text/plain": [
       "     pitch      start        end      step  duration\n",
       "0       50   0.000000   0.397959  0.000000  0.397959\n",
       "1       62   0.000000   0.414966  0.000000  0.414966\n",
       "2       64   0.408163   0.802721  0.408163  0.394558\n",
       "3       53   0.408163   0.809523  0.000000  0.401360\n",
       "4       65   0.816326   1.214285  0.408163  0.397959\n",
       "..     ...        ...        ...       ...       ...\n",
       "318     50  72.244851  72.625803  0.408163  0.380952\n",
       "319     62  72.244851  73.948932  0.000000  1.704081\n",
       "320     53  72.653014  73.050973  0.408163  0.397959\n",
       "321     57  73.061177  73.455735  0.408163  0.394558\n",
       "322     50  73.469340  73.921721  0.408163  0.452381\n",
       "\n",
       "[323 rows x 5 columns]"
      ]
     },
     "execution_count": 13,
     "metadata": {},
     "output_type": "execute_result"
    }
   ],
   "source": [
    "raw_notes = midi_to_notes(sample_file)\n",
    "raw_notes.to_excel(musicName + '.xlsx')\n",
    "raw_notes"
   ]
  },
  {
   "cell_type": "code",
   "execution_count": 14,
   "id": "1640a18a",
   "metadata": {
    "collapsed": false,
    "execution": {
     "iopub.execute_input": "2022-11-27T20:54:34.482838Z",
     "iopub.status.busy": "2022-11-27T20:54:34.481594Z",
     "iopub.status.idle": "2022-11-27T20:54:34.494706Z",
     "shell.execute_reply": "2022-11-27T20:54:34.493835Z"
    },
    "jupyter": {
     "outputs_hidden": false
    },
    "papermill": {
     "duration": 0.03091,
     "end_time": "2022-11-27T20:54:34.497028",
     "exception": false,
     "start_time": "2022-11-27T20:54:34.466118",
     "status": "completed"
    },
    "pycharm": {
     "name": "#%%\n"
    },
    "tags": []
   },
   "outputs": [
    {
     "data": {
      "text/plain": [
       "array(['D3', 'D4', 'E4', 'F3', 'F4', 'A3', 'D3', 'A4', 'F3', 'A#4'],\n",
       "      dtype='<U3')"
      ]
     },
     "execution_count": 14,
     "metadata": {},
     "output_type": "execute_result"
    }
   ],
   "source": [
    "get_note_names = np.vectorize(pretty_midi.note_number_to_name)\n",
    "sample_note_names = get_note_names(raw_notes['pitch'])\n",
    "sample_note_names[:10]"
   ]
  },
  {
   "cell_type": "code",
   "execution_count": 15,
   "id": "8499f9d2",
   "metadata": {
    "collapsed": false,
    "execution": {
     "iopub.execute_input": "2022-11-27T20:54:34.527740Z",
     "iopub.status.busy": "2022-11-27T20:54:34.526961Z",
     "iopub.status.idle": "2022-11-27T20:54:34.538483Z",
     "shell.execute_reply": "2022-11-27T20:54:34.537201Z"
    },
    "jupyter": {
     "outputs_hidden": false
    },
    "papermill": {
     "duration": 0.029885,
     "end_time": "2022-11-27T20:54:34.541277",
     "exception": false,
     "start_time": "2022-11-27T20:54:34.511392",
     "status": "completed"
    },
    "pycharm": {
     "name": "#%%\n"
    },
    "tags": []
   },
   "outputs": [],
   "source": [
    "raw_notes.to_csv(musicName + '.csv')"
   ]
  },
  {
   "cell_type": "markdown",
   "id": "7221de5d",
   "metadata": {
    "papermill": {
     "duration": 0.01445,
     "end_time": "2022-11-27T20:54:34.570263",
     "exception": false,
     "start_time": "2022-11-27T20:54:34.555813",
     "status": "completed"
    },
    "pycharm": {
     "name": "#%% md\n"
    },
    "tags": []
   },
   "source": [
    "### To visualize the musical piece, plot the note pitch, start and end across the length of the track (i.e. piano roll). Start with the first 150 notes"
   ]
  },
  {
   "cell_type": "code",
   "execution_count": 16,
   "id": "7da11768",
   "metadata": {
    "collapsed": false,
    "execution": {
     "iopub.execute_input": "2022-11-27T20:54:34.602095Z",
     "iopub.status.busy": "2022-11-27T20:54:34.601649Z",
     "iopub.status.idle": "2022-11-27T20:54:34.610387Z",
     "shell.execute_reply": "2022-11-27T20:54:34.608961Z"
    },
    "jupyter": {
     "outputs_hidden": false
    },
    "papermill": {
     "duration": 0.027799,
     "end_time": "2022-11-27T20:54:34.613025",
     "exception": false,
     "start_time": "2022-11-27T20:54:34.585226",
     "status": "completed"
    },
    "pycharm": {
     "name": "#%%\n"
    },
    "tags": []
   },
   "outputs": [],
   "source": [
    "def plot_piano_roll(notes: pd.DataFrame, count: Optional[int] = None):\n",
    "    if count:\n",
    "        title = f'First {count} notes ' + musicName\n",
    "    else:\n",
    "        title = f'Whole track ' + musicName\n",
    "        count = len(notes['pitch'])\n",
    "    plt.figure(figsize=(20, 4))\n",
    "    plot_pitch = np.stack([notes['pitch'], notes['pitch']], axis=0)\n",
    "    plot_start_stop = np.stack([notes['start'], notes['end']], axis=0)\n",
    "    plt.plot(\n",
    "        plot_start_stop[:, :count], plot_pitch[:, :count], color=\"b\", marker=\".\")\n",
    "    plt.xlabel('Time [s]')\n",
    "    plt.ylabel('Pitch')\n",
    "    _ = plt.title(title)"
   ]
  },
  {
   "cell_type": "code",
   "execution_count": 17,
   "id": "f6e78ff5",
   "metadata": {
    "collapsed": false,
    "execution": {
     "iopub.execute_input": "2022-11-27T20:54:34.644242Z",
     "iopub.status.busy": "2022-11-27T20:54:34.643812Z",
     "iopub.status.idle": "2022-11-27T20:54:35.124158Z",
     "shell.execute_reply": "2022-11-27T20:54:35.122788Z"
    },
    "jupyter": {
     "outputs_hidden": false
    },
    "papermill": {
     "duration": 0.499248,
     "end_time": "2022-11-27T20:54:35.126730",
     "exception": false,
     "start_time": "2022-11-27T20:54:34.627482",
     "status": "completed"
    },
    "pycharm": {
     "name": "#%%\n"
    },
    "tags": []
   },
   "outputs": [
    {
     "data": {
      "image/png": "[encoded data removed]",
      "text/plain": [
       "<Figure size 1440x288 with 1 Axes>"
      ]
     },
     "metadata": {
      "needs_background": "light"
     },
     "output_type": "display_data"
    }
   ],
   "source": [
    "plot_piano_roll(raw_notes, count=150)"
   ]
  },
  {
   "cell_type": "code",
   "execution_count": 18,
   "id": "a7112b95",
   "metadata": {
    "collapsed": false,
    "execution": {
     "iopub.execute_input": "2022-11-27T20:54:35.157396Z",
     "iopub.status.busy": "2022-11-27T20:54:35.157007Z",
     "iopub.status.idle": "2022-11-27T20:54:35.804187Z",
     "shell.execute_reply": "2022-11-27T20:54:35.802865Z"
    },
    "jupyter": {
     "outputs_hidden": false
    },
    "papermill": {
     "duration": 0.665472,
     "end_time": "2022-11-27T20:54:35.806816",
     "exception": false,
     "start_time": "2022-11-27T20:54:35.141344",
     "status": "completed"
    },
    "pycharm": {
     "name": "#%%\n"
    },
    "tags": []
   },
   "outputs": [
    {
     "data": {
      "image/png": "[encoded data removed]",
      "text/plain": [
       "<Figure size 1440x288 with 1 Axes>"
      ]
     },
     "metadata": {
      "needs_background": "light"
     },
     "output_type": "display_data"
    }
   ],
   "source": [
    "plot_piano_roll(raw_notes)"
   ]
  },
  {
   "cell_type": "markdown",
   "id": "480b3751",
   "metadata": {
    "papermill": {
     "duration": 0.014549,
     "end_time": "2022-11-27T20:54:35.836612",
     "exception": false,
     "start_time": "2022-11-27T20:54:35.822063",
     "status": "completed"
    },
    "pycharm": {
     "name": "#%% md\n"
    },
    "tags": []
   },
   "source": [
    "### Check the distribution of each note variable."
   ]
  },
  {
   "cell_type": "code",
   "execution_count": 19,
   "id": "26a78141",
   "metadata": {
    "collapsed": false,
    "execution": {
     "iopub.execute_input": "2022-11-27T20:54:35.868869Z",
     "iopub.status.busy": "2022-11-27T20:54:35.868384Z",
     "iopub.status.idle": "2022-11-27T20:54:36.494127Z",
     "shell.execute_reply": "2022-11-27T20:54:36.492989Z"
    },
    "jupyter": {
     "outputs_hidden": false
    },
    "papermill": {
     "duration": 0.644967,
     "end_time": "2022-11-27T20:54:36.496645",
     "exception": false,
     "start_time": "2022-11-27T20:54:35.851678",
     "status": "completed"
    },
    "pycharm": {
     "name": "#%%\n"
    },
    "tags": []
   },
   "outputs": [
    {
     "data": {
      "image/png": "[encoded data removed]",
      "text/plain": [
       "<Figure size 1080x360 with 3 Axes>"
      ]
     },
     "metadata": {
      "needs_background": "light"
     },
     "output_type": "display_data"
    }
   ],
   "source": [
    "def plot_distributions(notes: pd.DataFrame, drop_percentile=2.5):\n",
    "    plt.figure(figsize=[15, 5])\n",
    "    plt.subplot(1, 3, 1)\n",
    "    sns.histplot(notes, x=\"pitch\", bins=20)\n",
    "\n",
    "    plt.subplot(1, 3, 2)\n",
    "    max_step = np.percentile(notes['step'], 100 - drop_percentile)\n",
    "    sns.histplot(notes, x=\"step\", bins=np.linspace(0, max_step, 21))\n",
    "    plt.title(musicName)\n",
    "\n",
    "    plt.subplot(1, 3, 3)\n",
    "    max_duration = np.percentile(notes['duration'], 100 - drop_percentile)\n",
    "    sns.histplot(notes, x=\"duration\", bins=np.linspace(0, max_duration, 21))\n",
    "\n",
    "plot_distributions(raw_notes)"
   ]
  },
  {
   "cell_type": "code",
   "execution_count": 20,
   "id": "a4d476cb",
   "metadata": {
    "collapsed": false,
    "execution": {
     "iopub.execute_input": "2022-11-27T20:54:36.530656Z",
     "iopub.status.busy": "2022-11-27T20:54:36.529467Z",
     "iopub.status.idle": "2022-11-27T20:54:36.964657Z",
     "shell.execute_reply": "2022-11-27T20:54:36.963790Z"
    },
    "jupyter": {
     "outputs_hidden": false
    },
    "papermill": {
     "duration": 0.454274,
     "end_time": "2022-11-27T20:54:36.966994",
     "exception": false,
     "start_time": "2022-11-27T20:54:36.512720",
     "status": "completed"
    },
    "pycharm": {
     "name": "#%%\n"
    },
    "tags": []
   },
   "outputs": [
    {
     "data": {
      "image/png": "[encoded data removed]",
      "text/plain": [
       "<Figure size 1440x288 with 1 Axes>"
      ]
     },
     "metadata": {
      "needs_background": "light"
     },
     "output_type": "display_data"
    }
   ],
   "source": [
    "plot_piano_roll(raw_notes, count=150)"
   ]
  },
  {
   "cell_type": "markdown",
   "id": "d60c044d",
   "metadata": {
    "papermill": {
     "duration": 0.016071,
     "end_time": "2022-11-27T20:54:36.998924",
     "exception": false,
     "start_time": "2022-11-27T20:54:36.982853",
     "status": "completed"
    },
    "pycharm": {
     "name": "#%% md\n"
    },
    "tags": []
   },
   "source": [
    "# 4 | Create a MIDI file"
   ]
  },
  {
   "cell_type": "code",
   "execution_count": 21,
   "id": "a9024113",
   "metadata": {
    "collapsed": false,
    "execution": {
     "iopub.execute_input": "2022-11-27T20:54:37.032735Z",
     "iopub.status.busy": "2022-11-27T20:54:37.031634Z",
     "iopub.status.idle": "2022-11-27T20:54:37.040966Z",
     "shell.execute_reply": "2022-11-27T20:54:37.039830Z"
    },
    "jupyter": {
     "outputs_hidden": false
    },
    "papermill": {
     "duration": 0.029106,
     "end_time": "2022-11-27T20:54:37.043600",
     "exception": false,
     "start_time": "2022-11-27T20:54:37.014494",
     "status": "completed"
    },
    "pycharm": {
     "name": "#%%\n"
    },
    "tags": []
   },
   "outputs": [],
   "source": [
    "def notes_to_midi(notes: pd.DataFrame,\n",
    "                  out_file: str,\n",
    "                  instrument_name: str,\n",
    "                  velocity: int = 100) -> pretty_midi.PrettyMIDI:\n",
    "    pm = pretty_midi.PrettyMIDI()\n",
    "    instrument = pretty_midi.Instrument(\n",
    "        program=pretty_midi.instrument_name_to_program(\n",
    "            instrument_name))\n",
    "\n",
    "    prev_start = 0\n",
    "    for i, note in notes.iterrows():\n",
    "        start = float(prev_start + note['step'])\n",
    "        end = float(start + note['duration'])\n",
    "        note = pretty_midi.Note(\n",
    "            velocity=velocity,\n",
    "            pitch=int(note['pitch']),\n",
    "            start=start,\n",
    "            end=end,\n",
    "        )\n",
    "        instrument.notes.append(note)\n",
    "        prev_start = start\n",
    "\n",
    "    pm.instruments.append(instrument)\n",
    "    pm.write(out_file)\n",
    "    return pm"
   ]
  },
  {
   "cell_type": "markdown",
   "id": "a23be060",
   "metadata": {
    "papermill": {
     "duration": 0.015878,
     "end_time": "2022-11-27T20:54:37.075872",
     "exception": false,
     "start_time": "2022-11-27T20:54:37.059994",
     "status": "completed"
    },
    "pycharm": {
     "name": "#%% md\n"
    },
    "tags": []
   },
   "source": [
    "### Play the generated MIDI file and see if there is any difference."
   ]
  },
  {
   "cell_type": "code",
   "execution_count": 22,
   "id": "c6b2ce71",
   "metadata": {
    "collapsed": false,
    "execution": {
     "iopub.execute_input": "2022-11-27T20:54:37.109739Z",
     "iopub.status.busy": "2022-11-27T20:54:37.109355Z",
     "iopub.status.idle": "2022-11-27T20:54:37.165054Z",
     "shell.execute_reply": "2022-11-27T20:54:37.163984Z"
    },
    "jupyter": {
     "outputs_hidden": false
    },
    "papermill": {
     "duration": 0.075609,
     "end_time": "2022-11-27T20:54:37.167870",
     "exception": false,
     "start_time": "2022-11-27T20:54:37.092261",
     "status": "completed"
    },
    "pycharm": {
     "name": "#%%\n"
    },
    "tags": []
   },
   "outputs": [],
   "source": [
    "example_file = musicName + ' output.midi'\n",
    "example_pm = notes_to_midi(raw_notes, out_file=example_file, instrument_name=instrument_name)"
   ]
  },
  {
   "cell_type": "code",
   "execution_count": 23,
   "id": "a0aee938",
   "metadata": {
    "collapsed": false,
    "execution": {
     "iopub.execute_input": "2022-11-27T20:54:37.201274Z",
     "iopub.status.busy": "2022-11-27T20:54:37.200884Z",
     "iopub.status.idle": "2022-11-27T20:54:37.205565Z",
     "shell.execute_reply": "2022-11-27T20:54:37.204304Z"
    },
    "jupyter": {
     "outputs_hidden": false
    },
    "papermill": {
     "duration": 0.023926,
     "end_time": "2022-11-27T20:54:37.207973",
     "exception": false,
     "start_time": "2022-11-27T20:54:37.184047",
     "status": "completed"
    },
    "pycharm": {
     "name": "#%%\n"
    },
    "tags": []
   },
   "outputs": [],
   "source": [
    "# display_audio(example_pm)"
   ]
  },
  {
   "cell_type": "markdown",
   "id": "29c30e4d",
   "metadata": {
    "papermill": {
     "duration": 0.015195,
     "end_time": "2022-11-27T20:54:37.238651",
     "exception": false,
     "start_time": "2022-11-27T20:54:37.223456",
     "status": "completed"
    },
    "pycharm": {
     "name": "#%% md\n"
    },
    "tags": []
   },
   "source": [
    "# 5 | Separation of notes"
   ]
  },
  {
   "cell_type": "markdown",
   "id": "6d9bc942",
   "metadata": {
    "papermill": {
     "duration": 0.015119,
     "end_time": "2022-11-27T20:54:37.269476",
     "exception": false,
     "start_time": "2022-11-27T20:54:37.254357",
     "status": "completed"
    },
    "pycharm": {
     "name": "#%% md\n"
    },
    "tags": []
   },
   "source": [
    "### Right Hand"
   ]
  },
  {
   "cell_type": "code",
   "execution_count": 24,
   "id": "dcec2b7e",
   "metadata": {
    "collapsed": false,
    "execution": {
     "iopub.execute_input": "2022-11-27T20:54:37.302448Z",
     "iopub.status.busy": "2022-11-27T20:54:37.302058Z",
     "iopub.status.idle": "2022-11-27T20:54:37.319961Z",
     "shell.execute_reply": "2022-11-27T20:54:37.318794Z"
    },
    "jupyter": {
     "outputs_hidden": false
    },
    "papermill": {
     "duration": 0.037285,
     "end_time": "2022-11-27T20:54:37.322275",
     "exception": false,
     "start_time": "2022-11-27T20:54:37.284990",
     "status": "completed"
    },
    "pycharm": {
     "name": "#%%\n"
    },
    "tags": []
   },
   "outputs": [
    {
     "data": {
      "text/html": [
       "<div>\n",
       "<style scoped>\n",
       "    .dataframe tbody tr th:only-of-type {\n",
       "        vertical-align: middle;\n",
       "    }\n",
       "\n",
       "    .dataframe tbody tr th {\n",
       "        vertical-align: top;\n",
       "    }\n",
       "\n",
       "    .dataframe thead th {\n",
       "        text-align: right;\n",
       "    }\n",
       "</style>\n",
       "<table border=\"1\" class=\"dataframe\">\n",
       "  <thead>\n",
       "    <tr style=\"text-align: right;\">\n",
       "      <th></th>\n",
       "      <th>pitch</th>\n",
       "      <th>start</th>\n",
       "      <th>end</th>\n",
       "      <th>step</th>\n",
       "      <th>duration</th>\n",
       "    </tr>\n",
       "  </thead>\n",
       "  <tbody>\n",
       "    <tr>\n",
       "      <th>0</th>\n",
       "      <td>0</td>\n",
       "      <td>0.000000</td>\n",
       "      <td>0.397959</td>\n",
       "      <td>0.000000</td>\n",
       "      <td>0.397959</td>\n",
       "    </tr>\n",
       "    <tr>\n",
       "      <th>1</th>\n",
       "      <td>62</td>\n",
       "      <td>0.000000</td>\n",
       "      <td>0.414966</td>\n",
       "      <td>0.000000</td>\n",
       "      <td>0.414966</td>\n",
       "    </tr>\n",
       "    <tr>\n",
       "      <th>2</th>\n",
       "      <td>64</td>\n",
       "      <td>0.408163</td>\n",
       "      <td>0.802721</td>\n",
       "      <td>0.408163</td>\n",
       "      <td>0.394558</td>\n",
       "    </tr>\n",
       "    <tr>\n",
       "      <th>3</th>\n",
       "      <td>0</td>\n",
       "      <td>0.408163</td>\n",
       "      <td>0.809523</td>\n",
       "      <td>0.000000</td>\n",
       "      <td>0.401360</td>\n",
       "    </tr>\n",
       "    <tr>\n",
       "      <th>4</th>\n",
       "      <td>65</td>\n",
       "      <td>0.816326</td>\n",
       "      <td>1.214285</td>\n",
       "      <td>0.408163</td>\n",
       "      <td>0.397959</td>\n",
       "    </tr>\n",
       "    <tr>\n",
       "      <th>...</th>\n",
       "      <td>...</td>\n",
       "      <td>...</td>\n",
       "      <td>...</td>\n",
       "      <td>...</td>\n",
       "      <td>...</td>\n",
       "    </tr>\n",
       "    <tr>\n",
       "      <th>318</th>\n",
       "      <td>0</td>\n",
       "      <td>72.244851</td>\n",
       "      <td>72.625803</td>\n",
       "      <td>0.408163</td>\n",
       "      <td>0.380952</td>\n",
       "    </tr>\n",
       "    <tr>\n",
       "      <th>319</th>\n",
       "      <td>62</td>\n",
       "      <td>72.244851</td>\n",
       "      <td>73.948932</td>\n",
       "      <td>0.000000</td>\n",
       "      <td>1.704081</td>\n",
       "    </tr>\n",
       "    <tr>\n",
       "      <th>320</th>\n",
       "      <td>0</td>\n",
       "      <td>72.653014</td>\n",
       "      <td>73.050973</td>\n",
       "      <td>0.408163</td>\n",
       "      <td>0.397959</td>\n",
       "    </tr>\n",
       "    <tr>\n",
       "      <th>321</th>\n",
       "      <td>0</td>\n",
       "      <td>73.061177</td>\n",
       "      <td>73.455735</td>\n",
       "      <td>0.408163</td>\n",
       "      <td>0.394558</td>\n",
       "    </tr>\n",
       "    <tr>\n",
       "      <th>322</th>\n",
       "      <td>0</td>\n",
       "      <td>73.469340</td>\n",
       "      <td>73.921721</td>\n",
       "      <td>0.408163</td>\n",
       "      <td>0.452381</td>\n",
       "    </tr>\n",
       "  </tbody>\n",
       "</table>\n",
       "<p>323 rows × 5 columns</p>\n",
       "</div>"
      ],
      "text/plain": [
       "     pitch      start        end      step  duration\n",
       "0        0   0.000000   0.397959  0.000000  0.397959\n",
       "1       62   0.000000   0.414966  0.000000  0.414966\n",
       "2       64   0.408163   0.802721  0.408163  0.394558\n",
       "3        0   0.408163   0.809523  0.000000  0.401360\n",
       "4       65   0.816326   1.214285  0.408163  0.397959\n",
       "..     ...        ...        ...       ...       ...\n",
       "318      0  72.244851  72.625803  0.408163  0.380952\n",
       "319     62  72.244851  73.948932  0.000000  1.704081\n",
       "320      0  72.653014  73.050973  0.408163  0.397959\n",
       "321      0  73.061177  73.455735  0.408163  0.394558\n",
       "322      0  73.469340  73.921721  0.408163  0.452381\n",
       "\n",
       "[323 rows x 5 columns]"
      ]
     },
     "execution_count": 24,
     "metadata": {},
     "output_type": "execute_result"
    }
   ],
   "source": [
    "r_hand = raw_notes.copy()\n",
    "r_hand.loc[r_hand['pitch'] <= 60,'pitch'] = 0\n",
    "r_hand"
   ]
  },
  {
   "cell_type": "code",
   "execution_count": 25,
   "id": "b83041d0",
   "metadata": {
    "collapsed": false,
    "execution": {
     "iopub.execute_input": "2022-11-27T20:54:37.356386Z",
     "iopub.status.busy": "2022-11-27T20:54:37.355167Z",
     "iopub.status.idle": "2022-11-27T20:54:37.796210Z",
     "shell.execute_reply": "2022-11-27T20:54:37.794981Z"
    },
    "jupyter": {
     "outputs_hidden": false
    },
    "papermill": {
     "duration": 0.460702,
     "end_time": "2022-11-27T20:54:37.798899",
     "exception": false,
     "start_time": "2022-11-27T20:54:37.338197",
     "status": "completed"
    },
    "pycharm": {
     "name": "#%%\n"
    },
    "tags": []
   },
   "outputs": [
    {
     "data": {
      "image/png": "[encoded data removed]",
      "text/plain": [
       "<Figure size 1440x288 with 1 Axes>"
      ]
     },
     "metadata": {
      "needs_background": "light"
     },
     "output_type": "display_data"
    }
   ],
   "source": [
    "plot_piano_roll(r_hand, count=150)"
   ]
  },
  {
   "cell_type": "code",
   "execution_count": 26,
   "id": "02e4d3a3",
   "metadata": {
    "collapsed": false,
    "execution": {
     "iopub.execute_input": "2022-11-27T20:54:37.836305Z",
     "iopub.status.busy": "2022-11-27T20:54:37.835510Z",
     "iopub.status.idle": "2022-11-27T20:54:37.892191Z",
     "shell.execute_reply": "2022-11-27T20:54:37.891131Z"
    },
    "jupyter": {
     "outputs_hidden": false
    },
    "papermill": {
     "duration": 0.077429,
     "end_time": "2022-11-27T20:54:37.894938",
     "exception": false,
     "start_time": "2022-11-27T20:54:37.817509",
     "status": "completed"
    },
    "pycharm": {
     "name": "#%%\n"
    },
    "tags": []
   },
   "outputs": [],
   "source": [
    "r_file = musicName + ' rightHand.midi'\n",
    "r_pm = notes_to_midi(r_hand, out_file=r_file, instrument_name=instrument_name)\n",
    "# display_audio(r_pm)"
   ]
  },
  {
   "cell_type": "markdown",
   "id": "b99307cc",
   "metadata": {
    "papermill": {
     "duration": 0.015946,
     "end_time": "2022-11-27T20:54:37.927864",
     "exception": false,
     "start_time": "2022-11-27T20:54:37.911918",
     "status": "completed"
    },
    "pycharm": {
     "name": "#%% md\n"
    },
    "tags": []
   },
   "source": [
    "### Left Hand - Chord"
   ]
  },
  {
   "cell_type": "code",
   "execution_count": 27,
   "id": "8c4e8e27",
   "metadata": {
    "collapsed": false,
    "execution": {
     "iopub.execute_input": "2022-11-27T20:54:37.963486Z",
     "iopub.status.busy": "2022-11-27T20:54:37.963050Z",
     "iopub.status.idle": "2022-11-27T20:54:37.982382Z",
     "shell.execute_reply": "2022-11-27T20:54:37.981039Z"
    },
    "jupyter": {
     "outputs_hidden": false
    },
    "papermill": {
     "duration": 0.039465,
     "end_time": "2022-11-27T20:54:37.984660",
     "exception": false,
     "start_time": "2022-11-27T20:54:37.945195",
     "status": "completed"
    },
    "pycharm": {
     "name": "#%%\n"
    },
    "tags": []
   },
   "outputs": [
    {
     "data": {
      "text/html": [
       "<div>\n",
       "<style scoped>\n",
       "    .dataframe tbody tr th:only-of-type {\n",
       "        vertical-align: middle;\n",
       "    }\n",
       "\n",
       "    .dataframe tbody tr th {\n",
       "        vertical-align: top;\n",
       "    }\n",
       "\n",
       "    .dataframe thead th {\n",
       "        text-align: right;\n",
       "    }\n",
       "</style>\n",
       "<table border=\"1\" class=\"dataframe\">\n",
       "  <thead>\n",
       "    <tr style=\"text-align: right;\">\n",
       "      <th></th>\n",
       "      <th>pitch</th>\n",
       "      <th>start</th>\n",
       "      <th>end</th>\n",
       "      <th>step</th>\n",
       "      <th>duration</th>\n",
       "    </tr>\n",
       "  </thead>\n",
       "  <tbody>\n",
       "    <tr>\n",
       "      <th>0</th>\n",
       "      <td>50</td>\n",
       "      <td>0.000000</td>\n",
       "      <td>0.397959</td>\n",
       "      <td>0.000000</td>\n",
       "      <td>0.397959</td>\n",
       "    </tr>\n",
       "    <tr>\n",
       "      <th>1</th>\n",
       "      <td>0</td>\n",
       "      <td>0.000000</td>\n",
       "      <td>0.414966</td>\n",
       "      <td>0.000000</td>\n",
       "      <td>0.414966</td>\n",
       "    </tr>\n",
       "    <tr>\n",
       "      <th>2</th>\n",
       "      <td>0</td>\n",
       "      <td>0.408163</td>\n",
       "      <td>0.802721</td>\n",
       "      <td>0.408163</td>\n",
       "      <td>0.394558</td>\n",
       "    </tr>\n",
       "    <tr>\n",
       "      <th>3</th>\n",
       "      <td>53</td>\n",
       "      <td>0.408163</td>\n",
       "      <td>0.809523</td>\n",
       "      <td>0.000000</td>\n",
       "      <td>0.401360</td>\n",
       "    </tr>\n",
       "    <tr>\n",
       "      <th>4</th>\n",
       "      <td>0</td>\n",
       "      <td>0.816326</td>\n",
       "      <td>1.214285</td>\n",
       "      <td>0.408163</td>\n",
       "      <td>0.397959</td>\n",
       "    </tr>\n",
       "    <tr>\n",
       "      <th>...</th>\n",
       "      <td>...</td>\n",
       "      <td>...</td>\n",
       "      <td>...</td>\n",
       "      <td>...</td>\n",
       "      <td>...</td>\n",
       "    </tr>\n",
       "    <tr>\n",
       "      <th>318</th>\n",
       "      <td>50</td>\n",
       "      <td>72.244851</td>\n",
       "      <td>72.625803</td>\n",
       "      <td>0.408163</td>\n",
       "      <td>0.380952</td>\n",
       "    </tr>\n",
       "    <tr>\n",
       "      <th>319</th>\n",
       "      <td>0</td>\n",
       "      <td>72.244851</td>\n",
       "      <td>73.948932</td>\n",
       "      <td>0.000000</td>\n",
       "      <td>1.704081</td>\n",
       "    </tr>\n",
       "    <tr>\n",
       "      <th>320</th>\n",
       "      <td>53</td>\n",
       "      <td>72.653014</td>\n",
       "      <td>73.050973</td>\n",
       "      <td>0.408163</td>\n",
       "      <td>0.397959</td>\n",
       "    </tr>\n",
       "    <tr>\n",
       "      <th>321</th>\n",
       "      <td>57</td>\n",
       "      <td>73.061177</td>\n",
       "      <td>73.455735</td>\n",
       "      <td>0.408163</td>\n",
       "      <td>0.394558</td>\n",
       "    </tr>\n",
       "    <tr>\n",
       "      <th>322</th>\n",
       "      <td>50</td>\n",
       "      <td>73.469340</td>\n",
       "      <td>73.921721</td>\n",
       "      <td>0.408163</td>\n",
       "      <td>0.452381</td>\n",
       "    </tr>\n",
       "  </tbody>\n",
       "</table>\n",
       "<p>323 rows × 5 columns</p>\n",
       "</div>"
      ],
      "text/plain": [
       "     pitch      start        end      step  duration\n",
       "0       50   0.000000   0.397959  0.000000  0.397959\n",
       "1        0   0.000000   0.414966  0.000000  0.414966\n",
       "2        0   0.408163   0.802721  0.408163  0.394558\n",
       "3       53   0.408163   0.809523  0.000000  0.401360\n",
       "4        0   0.816326   1.214285  0.408163  0.397959\n",
       "..     ...        ...        ...       ...       ...\n",
       "318     50  72.244851  72.625803  0.408163  0.380952\n",
       "319      0  72.244851  73.948932  0.000000  1.704081\n",
       "320     53  72.653014  73.050973  0.408163  0.397959\n",
       "321     57  73.061177  73.455735  0.408163  0.394558\n",
       "322     50  73.469340  73.921721  0.408163  0.452381\n",
       "\n",
       "[323 rows x 5 columns]"
      ]
     },
     "execution_count": 27,
     "metadata": {},
     "output_type": "execute_result"
    }
   ],
   "source": [
    "l_hand = raw_notes.copy()\n",
    "l_hand.loc[l_hand['pitch'] > 60,'pitch'] = 0\n",
    "l_hand"
   ]
  },
  {
   "cell_type": "code",
   "execution_count": 28,
   "id": "097fea32",
   "metadata": {
    "collapsed": false,
    "execution": {
     "iopub.execute_input": "2022-11-27T20:54:38.020735Z",
     "iopub.status.busy": "2022-11-27T20:54:38.020353Z",
     "iopub.status.idle": "2022-11-27T20:54:38.684373Z",
     "shell.execute_reply": "2022-11-27T20:54:38.682633Z"
    },
    "jupyter": {
     "outputs_hidden": false
    },
    "papermill": {
     "duration": 0.686032,
     "end_time": "2022-11-27T20:54:38.687542",
     "exception": false,
     "start_time": "2022-11-27T20:54:38.001510",
     "status": "completed"
    },
    "pycharm": {
     "name": "#%%\n"
    },
    "tags": []
   },
   "outputs": [
    {
     "data": {
      "image/png": "[encoded data removed]",
      "text/plain": [
       "<Figure size 1440x288 with 1 Axes>"
      ]
     },
     "metadata": {
      "needs_background": "light"
     },
     "output_type": "display_data"
    }
   ],
   "source": [
    "plot_piano_roll(l_hand, count=150)"
   ]
  },
  {
   "cell_type": "code",
   "execution_count": 29,
   "id": "d33831bb",
   "metadata": {
    "collapsed": false,
    "execution": {
     "iopub.execute_input": "2022-11-27T20:54:38.725203Z",
     "iopub.status.busy": "2022-11-27T20:54:38.724766Z",
     "iopub.status.idle": "2022-11-27T20:54:38.777479Z",
     "shell.execute_reply": "2022-11-27T20:54:38.776140Z"
    },
    "jupyter": {
     "outputs_hidden": false
    },
    "papermill": {
     "duration": 0.074707,
     "end_time": "2022-11-27T20:54:38.780528",
     "exception": false,
     "start_time": "2022-11-27T20:54:38.705821",
     "status": "completed"
    },
    "pycharm": {
     "name": "#%%\n"
    },
    "tags": []
   },
   "outputs": [],
   "source": [
    "l_file = musicName + ' leftHand.midi'\n",
    "l_pm = notes_to_midi(l_hand, out_file=l_file, instrument_name=instrument_name)\n",
    "# display_audio(l_pm)"
   ]
  }
 ],
 "metadata": {
  "kernelspec": {
   "display_name": "Python 3",
   "language": "python",
   "name": "python3"
  },
  "language_info": {
   "codemirror_mode": {
    "name": "ipython",
    "version": 3
   },
   "file_extension": ".py",
   "mimetype": "text/x-python",
   "name": "python",
   "nbconvert_exporter": "python",
   "pygments_lexer": "ipython3",
   "version": "3.7.12"
  },
  "papermill": {
   "default_parameters": {},
   "duration": 67.231086,
   "end_time": "2022-11-27T20:54:42.206527",
   "environment_variables": {},
   "exception": null,
   "input_path": "__notebook__.ipynb",
   "output_path": "__notebook__.ipynb",
   "parameters": {},
   "start_time": "2022-11-27T20:53:34.975441",
   "version": "2.3.4"
  }
 },
 "nbformat": 4,
 "nbformat_minor": 5
}
